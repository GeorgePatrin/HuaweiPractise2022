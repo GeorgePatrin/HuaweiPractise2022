{
 "cells": [
  {
   "cell_type": "markdown",
   "id": "85d0df57",
   "metadata": {},
   "source": [
    "## Настройка окружения"
   ]
  },
  {
   "cell_type": "code",
   "execution_count": 3,
   "id": "74023071",
   "metadata": {},
   "outputs": [],
   "source": [
    "import os\n",
    "import argparse\n",
    "from mindspore import context\n",
    "\n",
    "parser = argparse.ArgumentParser(description='MindSpore LeNet Example')\n",
    "parser.add_argument('--device_target', type=str, default=\"CPU\", choices=['Ascend', 'GPU', 'CPU'])\n",
    "\n",
    "args = parser.parse_known_args()[0]\n",
    "context.set_context(mode=context.GRAPH_MODE, device_target=args.device_target)"
   ]
  },
  {
   "cell_type": "markdown",
   "id": "b7645317",
   "metadata": {},
   "source": [
    "## Скачиваем обучающую и тестовую выборки (MNIST)"
   ]
  },
  {
   "cell_type": "code",
   "execution_count": 4,
   "id": "a910f07c",
   "metadata": {},
   "outputs": [],
   "source": [
    "import os\n",
    "import requests\n",
    "\n",
    "def download_dataset(dataset_url, path):\n",
    "    filename = dataset_url.split(\"/\")[-1]\n",
    "    save_path = os.path.join(path, filename)\n",
    "    if os.path.exists(save_path):\n",
    "        return\n",
    "    if not os.path.exists(path):\n",
    "        os.makedirs(path)\n",
    "    res = requests.get(dataset_url, stream=True, verify=False)\n",
    "    with open(save_path, \"wb\") as f:\n",
    "        for chunk in res.iter_content(chunk_size=512):\n",
    "            if chunk:\n",
    "                f.write(chunk)\n",
    "\n",
    "train_path = \"datasets/MNIST_Data/train\"\n",
    "test_path = \"datasets/MNIST_Data/test\"\n",
    "\n",
    "download_dataset(\"https://mindspore-website.obs.myhuaweicloud.com/notebook/datasets/mnist/train-labels-idx1-ubyte\", train_path)\n",
    "download_dataset(\"https://mindspore-website.obs.myhuaweicloud.com/notebook/datasets/mnist/train-images-idx3-ubyte\", train_path)\n",
    "download_dataset(\"https://mindspore-website.obs.myhuaweicloud.com/notebook/datasets/mnist/t10k-labels-idx1-ubyte\", test_path)\n",
    "download_dataset(\"https://mindspore-website.obs.myhuaweicloud.com/notebook/datasets/mnist/t10k-images-idx3-ubyte\", test_path)"
   ]
  },
  {
   "cell_type": "markdown",
   "id": "671d17c4",
   "metadata": {},
   "source": [
    "## Предобработка данных \n",
    "\n",
    "(преобразование до размеров входного слоя, нормировка, разбиение на батчи ...)"
   ]
  },
  {
   "cell_type": "code",
   "execution_count": 5,
   "id": "ec46d99b",
   "metadata": {},
   "outputs": [],
   "source": [
    "import mindspore.dataset as ds\n",
    "import mindspore.dataset.transforms.c_transforms as C\n",
    "import mindspore.dataset.vision.c_transforms as CV\n",
    "from mindspore.dataset.vision import Inter\n",
    "from mindspore import dtype as mstype\n",
    "\n",
    "\n",
    "def create_dataset(data_path, batch_size=32, repeat_size=1,\n",
    "                   num_parallel_workers=1):\n",
    "    # Define the dataset.\n",
    "    mnist_ds = ds.MnistDataset(data_path)\n",
    "    resize_height, resize_width = 32, 32\n",
    "    rescale = 1.0 / 255.0\n",
    "    shift = 0.0\n",
    "    rescale_nml = 1 / 0.3081\n",
    "    shift_nml = -1 * 0.1307 / 0.3081\n",
    "\n",
    "    # Define the mapping to be operated.\n",
    "    resize_op = CV.Resize((resize_height, resize_width), interpolation=Inter.LINEAR)\n",
    "    rescale_nml_op = CV.Rescale(rescale_nml, shift_nml)\n",
    "    rescale_op = CV.Rescale(rescale, shift)\n",
    "    hwc2chw_op = CV.HWC2CHW()\n",
    "    type_cast_op = C.TypeCast(mstype.int32)\n",
    "\n",
    "    # Use the map function to apply data operations to the dataset.\n",
    "    mnist_ds = mnist_ds.map(operations=type_cast_op, input_columns=\"label\", num_parallel_workers=num_parallel_workers)\n",
    "    mnist_ds = mnist_ds.map(operations=[resize_op, rescale_op, rescale_nml_op, hwc2chw_op], input_columns=\"image\", num_parallel_workers=num_parallel_workers)\n",
    "\n",
    "\n",
    "    # Perform shuffle, batch and repeat operations.\n",
    "    buffer_size = 10000\n",
    "    mnist_ds = mnist_ds.shuffle(buffer_size=buffer_size)\n",
    "    mnist_ds = mnist_ds.batch(batch_size, drop_remainder=True)\n",
    "    mnist_ds = mnist_ds.repeat(count=repeat_size)\n",
    "\n",
    "    return mnist_ds\n"
   ]
  },
  {
   "cell_type": "markdown",
   "id": "129fe9fc",
   "metadata": {},
   "source": [
    "## Определяем клас сети с заданной архитектурой (LeNet)"
   ]
  },
  {
   "cell_type": "code",
   "execution_count": 6,
   "id": "bfbae544",
   "metadata": {},
   "outputs": [],
   "source": [
    "import mindspore.nn as nn\n",
    "from mindspore.common.initializer import Normal\n",
    "\n",
    "class LeNet5(nn.Cell):\n",
    "    \"\"\"\n",
    "    Lenet network structure\n",
    "    \"\"\"\n",
    "    def __init__(self, num_class=10, num_channel=1):\n",
    "        super(LeNet5, self).__init__()\n",
    "        # Define the required operation.\n",
    "        self.conv1 = nn.Conv2d(num_channel, 6, 5, pad_mode='valid')\n",
    "        self.conv2 = nn.Conv2d(6, 16, 5, pad_mode='valid')\n",
    "        self.fc1 = nn.Dense(16 * 5 * 5, 120, weight_init=Normal(0.02))\n",
    "        self.fc2 = nn.Dense(120, 84, weight_init=Normal(0.02))\n",
    "        self.fc3 = nn.Dense(84, num_class, weight_init=Normal(0.02))\n",
    "        self.relu = nn.ReLU()\n",
    "        self.max_pool2d = nn.MaxPool2d(kernel_size=2, stride=2)\n",
    "        self.flatten = nn.Flatten()\n",
    "\n",
    "    def construct(self, x):\n",
    "        # Use the defined operation to construct a forward network.\n",
    "        x = self.conv1(x)\n",
    "        x = self.relu(x)\n",
    "        x = self.max_pool2d(x)\n",
    "        x = self.conv2(x)\n",
    "        x = self.relu(x)\n",
    "        x = self.max_pool2d(x)\n",
    "        x = self.flatten(x)\n",
    "        x = self.fc1(x)\n",
    "        x = self.relu(x)\n",
    "        x = self.fc2(x)\n",
    "        x = self.relu(x)\n",
    "        x = self.fc3(x)\n",
    "        return x\n",
    "\n",
    "# Instantiate the network.\n",
    "net = LeNet5()"
   ]
  },
  {
   "cell_type": "markdown",
   "id": "6adbbafe",
   "metadata": {},
   "source": [
    "## Задаём некоторые параметры обучения, обучаем и сохраняем веса, сразу можем тестировать обученную модель"
   ]
  },
  {
   "cell_type": "code",
   "execution_count": 7,
   "id": "ba7260c4",
   "metadata": {},
   "outputs": [],
   "source": [
    "from mindspore.nn import Accuracy\n",
    "from mindspore.train.callback import LossMonitor\n",
    "from mindspore import Model\n",
    "from mindspore.train.callback import ModelCheckpoint, CheckpointConfig\n",
    "\n",
    "# Define the loss function.\n",
    "net_loss = nn.SoftmaxCrossEntropyWithLogits(sparse=True, reduction='mean')\n",
    "\n",
    "# Define the optimizer.\n",
    "net_opt = nn.Momentum(net.trainable_params(), learning_rate=0.01, momentum=0.9)\n",
    "\n",
    "\n",
    "# Set model saving parameters.\n",
    "config_ck = CheckpointConfig(save_checkpoint_steps=1875, keep_checkpoint_max=10)\n",
    "# Use model saving parameters.\n",
    "ckpoint = ModelCheckpoint(prefix=\"checkpoint_lenet\", config=config_ck)\n",
    "\n",
    "def train_net(model, epoch_size, data_path, repeat_size, ckpoint_cb, sink_mode):\n",
    "    \"\"\"Define a training method.\"\"\"\n",
    "    # Load the training dataset.\n",
    "    ds_train = create_dataset(os.path.join(data_path, \"train\"), 32, repeat_size)\n",
    "    model.train(epoch_size, ds_train, callbacks=[ckpoint_cb, LossMonitor(125)], dataset_sink_mode=sink_mode)\n",
    "\n",
    "def test_net(model, data_path):\n",
    "    \"\"\"Define a validation method.\"\"\"\n",
    "    ds_eval = create_dataset(os.path.join(data_path, \"test\"))\n",
    "    acc = model.eval(ds_eval, dataset_sink_mode=False)\n",
    "    print(\"{}\".format(acc))\n",
    "\n"
   ]
  },
  {
   "cell_type": "code",
   "execution_count": 8,
   "id": "c14c28b3",
   "metadata": {},
   "outputs": [
    {
     "name": "stderr",
     "output_type": "stream",
     "text": [
      "[WARNING] DEBUG(9304,7f6e00f60180,python3.7):2022-06-01-20:01:44.058.480 [mindspore/ccsrc/debug/debugger/debugger.cc:95] Debugger] Not enabling debugger. Debugger does not support CPU.\n"
     ]
    },
    {
     "name": "stdout",
     "output_type": "stream",
     "text": [
      "epoch: 1 step: 125, loss is 2.2892367839813232\n",
      "epoch: 1 step: 250, loss is 2.2928366661071777\n",
      "epoch: 1 step: 375, loss is 2.303436756134033\n",
      "epoch: 1 step: 500, loss is 2.297870397567749\n",
      "epoch: 1 step: 625, loss is 2.221806287765503\n",
      "epoch: 1 step: 750, loss is 0.7229615449905396\n",
      "epoch: 1 step: 875, loss is 0.2748519778251648\n",
      "epoch: 1 step: 1000, loss is 0.3398708403110504\n",
      "epoch: 1 step: 1125, loss is 0.2499988079071045\n",
      "epoch: 1 step: 1250, loss is 0.13009841740131378\n",
      "epoch: 1 step: 1375, loss is 0.13736097514629364\n",
      "epoch: 1 step: 1500, loss is 0.017294134944677353\n",
      "epoch: 1 step: 1625, loss is 0.07548681646585464\n",
      "epoch: 1 step: 1750, loss is 0.03318661078810692\n",
      "epoch: 1 step: 1875, loss is 0.14385399222373962\n",
      "{'Accuracy': 0.96875}\n"
     ]
    }
   ],
   "source": [
    "train_epoch = 1\n",
    "mnist_path = \"./datasets/MNIST_Data\"\n",
    "dataset_size = 1\n",
    "model = Model(net, net_loss, net_opt, metrics={\"Accuracy\": Accuracy()})\n",
    "train_net(model, train_epoch, mnist_path, dataset_size, ckpoint, False)\n",
    "test_net(model, mnist_path)\n"
   ]
  },
  {
   "cell_type": "markdown",
   "id": "173b9d64",
   "metadata": {},
   "source": [
    "## Можем загрузить и проверить сохранённую модель"
   ]
  },
  {
   "cell_type": "code",
   "execution_count": 9,
   "id": "3a85c3a3",
   "metadata": {},
   "outputs": [
    {
     "name": "stderr",
     "output_type": "stream",
     "text": [
      "[WARNING] ME(9304:140110439252352,MainProcess):2022-06-01-20:05:14.971.329 [mindspore/common/parameter.py:338] The parameter definition is deprecated.\n",
      "Please set a unique name for the parameter 'Parameter (name=Parameter, shape=(6, 1, 5, 5), dtype=Float32, requires_grad=True)'.\n",
      "[WARNING] ME(9304:140110439252352,MainProcess):2022-06-01-20:05:14.977.170 [mindspore/common/parameter.py:338] The parameter definition is deprecated.\n",
      "Please set a unique name for the parameter 'Parameter (name=Parameter, shape=(16, 6, 5, 5), dtype=Float32, requires_grad=True)'.\n",
      "[WARNING] ME(9304:140110439252352,MainProcess):2022-06-01-20:05:14.979.088 [mindspore/common/parameter.py:338] The parameter definition is deprecated.\n",
      "Please set a unique name for the parameter 'Parameter (name=Parameter, shape=(120, 400), dtype=Float32, requires_grad=True)'.\n",
      "[WARNING] ME(9304:140110439252352,MainProcess):2022-06-01-20:05:14.980.759 [mindspore/common/parameter.py:338] The parameter definition is deprecated.\n",
      "Please set a unique name for the parameter 'Parameter (name=Parameter, shape=(120,), dtype=Float32, requires_grad=True)'.\n",
      "[WARNING] ME(9304:140110439252352,MainProcess):2022-06-01-20:05:14.982.162 [mindspore/common/parameter.py:338] The parameter definition is deprecated.\n",
      "Please set a unique name for the parameter 'Parameter (name=Parameter, shape=(84, 120), dtype=Float32, requires_grad=True)'.\n",
      "[WARNING] ME(9304:140110439252352,MainProcess):2022-06-01-20:05:14.983.429 [mindspore/common/parameter.py:338] The parameter definition is deprecated.\n",
      "Please set a unique name for the parameter 'Parameter (name=Parameter, shape=(84,), dtype=Float32, requires_grad=True)'.\n",
      "[WARNING] ME(9304:140110439252352,MainProcess):2022-06-01-20:05:14.984.915 [mindspore/common/parameter.py:338] The parameter definition is deprecated.\n",
      "Please set a unique name for the parameter 'Parameter (name=Parameter, shape=(10, 84), dtype=Float32, requires_grad=True)'.\n",
      "[WARNING] ME(9304:140110439252352,MainProcess):2022-06-01-20:05:14.985.934 [mindspore/common/parameter.py:338] The parameter definition is deprecated.\n",
      "Please set a unique name for the parameter 'Parameter (name=Parameter, shape=(10,), dtype=Float32, requires_grad=True)'.\n"
     ]
    },
    {
     "data": {
      "text/plain": [
       "[]"
      ]
     },
     "execution_count": 9,
     "metadata": {},
     "output_type": "execute_result"
    }
   ],
   "source": [
    "from mindspore import load_checkpoint, load_param_into_net\n",
    "\n",
    "# Load the saved model for testing.\n",
    "param_dict = load_checkpoint(\"checkpoint_lenet-1_1875.ckpt\")\n",
    "# Load parameters to the network.\n",
    "load_param_into_net(net, param_dict)\n"
   ]
  },
  {
   "cell_type": "code",
   "execution_count": 10,
   "id": "d78ca8ec",
   "metadata": {},
   "outputs": [
    {
     "name": "stdout",
     "output_type": "stream",
     "text": [
      "Predicted: \"3\", Actual: \"3\"\n"
     ]
    }
   ],
   "source": [
    "import numpy as np\n",
    "from mindspore import Tensor\n",
    "\n",
    "# Define a test dataset. If batch_size is set to 1, an image is obtained.\n",
    "ds_test = create_dataset(os.path.join(mnist_path, \"test\"), batch_size=1).create_dict_iterator()\n",
    "data = next(ds_test)\n",
    "\n",
    "# `images` indicates the test image, and `labels` indicates the actual classification of the test image.\n",
    "images = data[\"image\"].asnumpy()\n",
    "labels = data[\"label\"].asnumpy()\n",
    "\n",
    "# Use the model.predict function to predict the classification of the image.\n",
    "output = model.predict(Tensor(data['image']))\n",
    "predicted = np.argmax(output.asnumpy(), axis=1)\n",
    "\n",
    "# Output the predicted classification and the actual classification.\n",
    "print(f'Predicted: \"{predicted[0]}\", Actual: \"{labels[0]}\"')\n"
   ]
  },
  {
   "cell_type": "code",
   "execution_count": null,
   "id": "f5579e00",
   "metadata": {},
   "outputs": [],
   "source": []
  }
 ],
 "metadata": {
  "kernelspec": {
   "display_name": "Python 3 (ipykernel)",
   "language": "python",
   "name": "python3"
  },
  "language_info": {
   "codemirror_mode": {
    "name": "ipython",
    "version": 3
   },
   "file_extension": ".py",
   "mimetype": "text/x-python",
   "name": "python",
   "nbconvert_exporter": "python",
   "pygments_lexer": "ipython3",
   "version": "3.7.5"
  }
 },
 "nbformat": 4,
 "nbformat_minor": 5
}
